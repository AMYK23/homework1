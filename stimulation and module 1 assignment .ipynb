{
 "cells": [
  {
   "cell_type": "code",
   "execution_count": 25,
   "id": "e11d5d52",
   "metadata": {},
   "outputs": [
    {
     "name": "stdout",
     "output_type": "stream",
     "text": [
      "-4\n",
      "2\n"
     ]
    }
   ],
   "source": [
    "from sympy import symbols, Eq, solve\n",
    "\n",
    "x = symbols('x')\n",
    "equation = Eq(x**2 + 2*x - 8, 0)\n",
    "solutions = solve(equation, x)\n",
    "for solution in solutions:\n",
    "    print(solution)\n"
   ]
  },
  {
   "cell_type": "code",
   "execution_count": null,
   "id": "50d46ae3",
   "metadata": {},
   "outputs": [],
   "source": [
    " # What is the function f(x) which is equal to its derivative?\n",
    "# the  function f(x)= e^x"
   ]
  },
  {
   "cell_type": "code",
   "execution_count": 28,
   "id": "65810fe2",
   "metadata": {},
   "outputs": [
    {
     "name": "stdout",
     "output_type": "stream",
     "text": [
      "1/4\n"
     ]
    }
   ],
   "source": [
    "from sympy import symbols, integrate\n",
    "#3 rd answer \n",
    "x = symbols('x')\n",
    "function = x**3\n",
    "\n",
    "area_func = integrate(function, (x, 0, 1))\n",
    "print(area_func)"
   ]
  },
  {
   "cell_type": "code",
   "execution_count": 23,
   "id": "a6ff5c49",
   "metadata": {},
   "outputs": [
    {
     "name": "stdout",
     "output_type": "stream",
     "text": [
      "Matrix([[2, -2, 1], [-3, -1, 0], [-8, 2, -3], [7, -7, 6]])\n"
     ]
    }
   ],
   "source": []
  },
  {
   "cell_type": "code",
   "execution_count": null,
   "id": "35788a6d",
   "metadata": {},
   "outputs": [],
   "source": []
  },
  {
   "cell_type": "code",
   "execution_count": null,
   "id": "d48cc37b",
   "metadata": {},
   "outputs": [],
   "source": []
  },
  {
   "cell_type": "code",
   "execution_count": null,
   "id": "a124cfa1",
   "metadata": {},
   "outputs": [],
   "source": []
  },
  {
   "cell_type": "code",
   "execution_count": null,
   "id": "186a5b8a",
   "metadata": {},
   "outputs": [],
   "source": []
  },
  {
   "cell_type": "code",
   "execution_count": 14,
   "id": "bb1b2c08",
   "metadata": {},
   "outputs": [
    {
     "name": "stdout",
     "output_type": "stream",
     "text": [
      "2.7182818011463845\n"
     ]
    }
   ],
   "source": [
    "from numpy import math\n",
    "def sum_to_infinity(x):\n",
    "  \"\"\"\n",
    "  #4 th answer \n",
    "  Calculates the sum of the series 1/x! from x=0 to infinity.\n",
    "\n",
    "  Args:\n",
    "    x: The upper bound of the summation.\n",
    "\n",
    "  Returns:\n",
    "    The sum of the series.\n",
    "  \"\"\"\n",
    "\n",
    "  sum = 0\n",
    "  for i in range(x + 1):\n",
    "    sum += 1 / math.factorial(i)\n",
    "\n",
    "  return sum\n",
    "\n",
    "\n",
    "if __name__ == \"__main__\":\n",
    "  x = 10\n",
    "\n",
    "  sum = sum_to_infinity(x)\n",
    "\n",
    "  print(sum)\n"
   ]
  },
  {
   "cell_type": "code",
   "execution_count": null,
   "id": "d7e45537",
   "metadata": {},
   "outputs": [],
   "source": []
  },
  {
   "cell_type": "code",
   "execution_count": null,
   "id": "7b911cd7",
   "metadata": {},
   "outputs": [],
   "source": []
  },
  {
   "cell_type": "code",
   "execution_count": null,
   "id": "afb48c55",
   "metadata": {},
   "outputs": [],
   "source": []
  },
  {
   "cell_type": "code",
   "execution_count": null,
   "id": "63467912",
   "metadata": {},
   "outputs": [],
   "source": []
  },
  {
   "cell_type": "code",
   "execution_count": null,
   "id": "852ed3a9",
   "metadata": {},
   "outputs": [],
   "source": []
  },
  {
   "cell_type": "code",
   "execution_count": null,
   "id": "720da452",
   "metadata": {},
   "outputs": [],
   "source": []
  },
  {
   "cell_type": "code",
   "execution_count": null,
   "id": "d96d6e69",
   "metadata": {},
   "outputs": [],
   "source": []
  },
  {
   "cell_type": "code",
   "execution_count": 15,
   "id": "02b0247c",
   "metadata": {},
   "outputs": [
    {
     "name": "stdout",
     "output_type": "stream",
     "text": [
      "2.7169239322355936\n"
     ]
    }
   ],
   "source": [
    "def calculate_value(n):\n",
    "  \"\"\"\n",
    "  5 th answer \n",
    "  \n",
    "  Calculates the value of (1 +limn→∞ 1/n)^n.\n",
    "\n",
    "  Args:\n",
    "    n: The number of terms in the series.\n",
    "\n",
    "  Returns:\n",
    "    The value of the expression.\n",
    "  \"\"\"\n",
    "\n",
    "  series_limit = 1 + 1 / n\n",
    "  value = series_limit ** n\n",
    "\n",
    "  return value\n",
    "\n",
    "\n",
    "if __name__ == \"__main__\":\n",
    "  n = 1000\n",
    "\n",
    "  value = calculate_value(n)\n",
    "\n",
    "  print(value)\n"
   ]
  },
  {
   "cell_type": "code",
   "execution_count": 29,
   "id": "8d2badad",
   "metadata": {},
   "outputs": [
    {
     "name": "stdout",
     "output_type": "stream",
     "text": [
      "Matrix([[2, -2, 1], [-3, -1, 0], [-8, 2, -3], [7, -7, 6]])\n"
     ]
    }
   ],
   "source": [
    "from sympy import Matrix\n",
    "#6th answer \n",
    "matrix_inputs  = Matrix([[2, -3, -8,7], [-2, -1,2, -7], [1,0,-3,6]])\n",
    "flipped_matrix = matrix_inputs.transpose()\n",
    "\n",
    "print(flipped_matrix)\n",
    "\n"
   ]
  },
  {
   "cell_type": "code",
   "execution_count": null,
   "id": "a631f289",
   "metadata": {},
   "outputs": [],
   "source": []
  },
  {
   "cell_type": "code",
   "execution_count": 16,
   "id": "bca48b48",
   "metadata": {
    "scrolled": true
   },
   "outputs": [
    {
     "name": "stdout",
     "output_type": "stream",
     "text": [
      "[[1. 0. 0.]\n",
      " [0. 1. 1.]\n",
      " [0. 0. 1.]]\n"
     ]
    }
   ],
   "source": [
    "import numpy as np\n",
    "\n",
    "def row_operations(matrix, row1, row2, operation):\n",
    " \n",
    "# answer for the 7th question\n",
    "\n",
    "  if operation == \"add\":\n",
    "    matrix[row1] += matrix[row2]\n",
    "  elif operation == \"subtract\":\n",
    "    matrix[row1] -= matrix[row2]\n",
    "  elif operation == \"multiply\":\n",
    "    matrix[row1] *= matrix[row2]\n",
    "  elif operation == \"divide\":\n",
    "    matrix[row1] /= matrix[row2]\n",
    "\n",
    "  return matrix\n",
    "\n",
    "\n",
    "def main():\n",
    "  matrix = np.eye(3)\n",
    "\n",
    "  \n",
    "  matrix = row_operations(matrix, 1, 2, \"add\")\n",
    "\n",
    "\n",
    "  print(matrix)\n",
    "\n",
    "\n",
    "if __name__ == \"__main__\":\n",
    "  main()\n"
   ]
  },
  {
   "cell_type": "code",
   "execution_count": null,
   "id": "77d2f4cb",
   "metadata": {},
   "outputs": [],
   "source": []
  },
  {
   "cell_type": "code",
   "execution_count": 17,
   "id": "aaf39c90",
   "metadata": {},
   "outputs": [
    {
     "name": "stdout",
     "output_type": "stream",
     "text": [
      "1\n"
     ]
    }
   ],
   "source": [
    "def determinant(matrix):\n",
    "# answer for the 8th question\n",
    "\n",
    "  determinant = 1\n",
    "  for i in range(len(matrix)):\n",
    "    for j in range(i):\n",
    "      if matrix[i][j] != 0:\n",
    "        determinant *= matrix[i][j]\n",
    "\n",
    "  return determinant\n",
    "\n",
    "\n",
    "def main():\n",
    "  matrix = np.eye(3)\n",
    "\n",
    "  \n",
    "  print(determinant(matrix))\n",
    "\n",
    "\n",
    "if __name__ == \"__main__\":\n",
    "  main()\n"
   ]
  },
  {
   "cell_type": "code",
   "execution_count": null,
   "id": "e71446e5",
   "metadata": {},
   "outputs": [],
   "source": []
  },
  {
   "cell_type": "code",
   "execution_count": null,
   "id": "dfb27883",
   "metadata": {},
   "outputs": [],
   "source": [
    "\n"
   ]
  },
  {
   "cell_type": "code",
   "execution_count": 18,
   "id": "aea8b634",
   "metadata": {},
   "outputs": [
    {
     "name": "stdout",
     "output_type": "stream",
     "text": [
      "Eigenvalues: {10: 1, 5: 1}\n",
      "Eigenvectors: [(5, 1, [Matrix([\n",
      "[1/2],\n",
      "[  1]])]), (10, 1, [Matrix([\n",
      "[-2],\n",
      "[ 1]])])]\n"
     ]
    }
   ],
   "source": [
    "from sympy import Matrix\n",
    "# question 9\n",
    "\n",
    "M = Matrix([[9, -2], [-2, 6]])\n",
    "eigenvals = M.eigenvals()\n",
    "eigenvects = M.eigenvects()\n",
    "\n",
    "print(\"Eigenvalues:\", eigenvals)\n",
    "print(\"Eigenvectors:\", eigenvects)\n"
   ]
  },
  {
   "cell_type": "code",
   "execution_count": null,
   "id": "cc52d2d4",
   "metadata": {},
   "outputs": [],
   "source": []
  },
  {
   "cell_type": "code",
   "execution_count": 20,
   "id": "a229bded",
   "metadata": {},
   "outputs": [
    {
     "name": "stderr",
     "output_type": "stream",
     "text": [
      "D:\\Temp\\ipykernel_30716\\1346663966.py:15: RuntimeWarning: overflow encountered in double_scalars\n",
      "  fish_population[i] = fish_population[i-1] + alpha * fish_population[i-1] - beta * fish_population[i-1] * bear_population[i-1]\n",
      "D:\\Temp\\ipykernel_30716\\1346663966.py:18: RuntimeWarning: overflow encountered in double_scalars\n",
      "  bear_population[i] = bear_population[i-1] + delta * bear_population[i-1] * fish_population[i-1] - gamma * bear_population[i-1]\n",
      "D:\\Temp\\ipykernel_30716\\1346663966.py:18: RuntimeWarning: invalid value encountered in double_scalars\n",
      "  bear_population[i] = bear_population[i-1] + delta * bear_population[i-1] * fish_population[i-1] - gamma * bear_population[i-1]\n"
     ]
    },
    {
     "data": {
      "image/png": "[encoded data removed]",
      "text/plain": [
       "<Figure size 640x480 with 1 Axes>"
      ]
     },
     "metadata": {},
     "output_type": "display_data"
    }
   ],
   "source": [
    "import numpy as np\n",
    "import matplotlib.pyplot as plt\n",
    "\n",
    "def predator_prey(fish, bears, alpha, beta, delta, gamma, time_steps):\n",
    "   \n",
    "\n",
    "    fish_population = np.zeros(time_steps)\n",
    "    bear_population = np.zeros(time_steps)\n",
    "\n",
    "    fish_population[0] = fish1\n",
    "    bear_population[0] = bears1\n",
    "\n",
    "    for i in range(1, time_steps):\n",
    "       \n",
    "        fish_population[i] = fish_population[i-1] + alpha * fish_population[i-1] - beta * fish_population[i-1] * bear_population[i-1]\n",
    "\n",
    "        bear_population[i] = bear_population[i-1] + delta * bear_population[i-1] * fish_population[i-1] - gamma * bear_population[i-1]\n",
    "\n",
    "    return fish_population, bear_population\n",
    "\n",
    "\n",
    "\n",
    "fish1 = 1000\n",
    "bears1 = 100\n",
    "\n",
    "\n",
    "alpha = 1.1\n",
    "beta = 0.4\n",
    "delta = 0.1\n",
    "gamma = 0.4\n",
    "\n",
    "\n",
    "time_steps = 1000\n",
    "\n",
    "\n",
    "fish_population, bear_population = predator_prey(fish, bears, alpha, beta, delta, gamma, time_steps)\n",
    "\n",
    "\n",
    "t = np.linspace(0, 50, num=time_steps)\n",
    "\n",
    "\n",
    "plt.plot(t, fish_population, label=\"Fish\")\n",
    "plt.plot(t, bear_population, label=\"Bears\")\n",
    "plt.xlabel(\"Time\")\n",
    "plt.ylabel(\"Population\")\n",
    "plt.legend()\n",
    "plt.show()\n"
   ]
  },
  {
   "cell_type": "code",
   "execution_count": null,
   "id": "6b791bec",
   "metadata": {},
   "outputs": [],
   "source": []
  },
  {
   "cell_type": "code",
   "execution_count": null,
   "id": "58bbc3d8",
   "metadata": {},
   "outputs": [],
   "source": []
  },
  {
   "cell_type": "code",
   "execution_count": null,
   "id": "2bf7ec42",
   "metadata": {},
   "outputs": [],
   "source": []
  },
  {
   "cell_type": "code",
   "execution_count": null,
   "id": "c9f067a4",
   "metadata": {},
   "outputs": [],
   "source": []
  },
  {
   "cell_type": "code",
   "execution_count": null,
   "id": "80df61e7",
   "metadata": {},
   "outputs": [],
   "source": []
  },
  {
   "cell_type": "code",
   "execution_count": null,
   "id": "db7493ee",
   "metadata": {},
   "outputs": [],
   "source": []
  },
  {
   "cell_type": "code",
   "execution_count": null,
   "id": "b67d72f2",
   "metadata": {},
   "outputs": [],
   "source": []
  },
  {
   "cell_type": "code",
   "execution_count": null,
   "id": "562ab138",
   "metadata": {},
   "outputs": [],
   "source": []
  },
  {
   "cell_type": "code",
   "execution_count": null,
   "id": "69e04f56",
   "metadata": {},
   "outputs": [],
   "source": []
  },
  {
   "cell_type": "code",
   "execution_count": null,
   "id": "baa1830b",
   "metadata": {},
   "outputs": [],
   "source": []
  },
  {
   "cell_type": "code",
   "execution_count": null,
   "id": "f3f2826f",
   "metadata": {},
   "outputs": [],
   "source": []
  },
  {
   "cell_type": "code",
   "execution_count": null,
   "id": "19eb9305",
   "metadata": {},
   "outputs": [],
   "source": []
  },
  {
   "cell_type": "code",
   "execution_count": null,
   "id": "f1a00ced",
   "metadata": {},
   "outputs": [],
   "source": [
    "    "
   ]
  },
  {
   "cell_type": "code",
   "execution_count": null,
   "id": "72165e3e",
   "metadata": {},
   "outputs": [],
   "source": []
  },
  {
   "cell_type": "code",
   "execution_count": null,
   "id": "82102350",
   "metadata": {},
   "outputs": [],
   "source": []
  },
  {
   "cell_type": "code",
   "execution_count": null,
   "id": "b37b25a9",
   "metadata": {},
   "outputs": [],
   "source": []
  },
  {
   "cell_type": "code",
   "execution_count": null,
   "id": "897d4d33",
   "metadata": {},
   "outputs": [],
   "source": []
  },
  {
   "cell_type": "code",
   "execution_count": null,
   "id": "2e2eafae",
   "metadata": {},
   "outputs": [],
   "source": []
  },
  {
   "cell_type": "code",
   "execution_count": null,
   "id": "b4b66b90",
   "metadata": {},
   "outputs": [],
   "source": []
  },
  {
   "cell_type": "code",
   "execution_count": null,
   "id": "4ef68a49",
   "metadata": {},
   "outputs": [],
   "source": []
  },
  {
   "cell_type": "code",
   "execution_count": null,
   "id": "d64a46b8",
   "metadata": {},
   "outputs": [],
   "source": []
  },
  {
   "cell_type": "code",
   "execution_count": null,
   "id": "09e832ab",
   "metadata": {},
   "outputs": [],
   "source": []
  },
  {
   "cell_type": "code",
   "execution_count": null,
   "id": "741798b7",
   "metadata": {},
   "outputs": [],
   "source": []
  },
  {
   "cell_type": "code",
   "execution_count": null,
   "id": "5a4113c9",
   "metadata": {},
   "outputs": [],
   "source": []
  },
  {
   "cell_type": "code",
   "execution_count": null,
   "id": "745e8ea2",
   "metadata": {},
   "outputs": [],
   "source": []
  },
  {
   "cell_type": "code",
   "execution_count": null,
   "id": "892b71fb",
   "metadata": {},
   "outputs": [],
   "source": []
  },
  {
   "cell_type": "code",
   "execution_count": null,
   "id": "7f8aa139",
   "metadata": {},
   "outputs": [],
   "source": []
  },
  {
   "cell_type": "code",
   "execution_count": null,
   "id": "d1c9ea64",
   "metadata": {},
   "outputs": [],
   "source": []
  },
  {
   "cell_type": "code",
   "execution_count": null,
   "id": "8a142e72",
   "metadata": {},
   "outputs": [],
   "source": []
  },
  {
   "cell_type": "code",
   "execution_count": null,
   "id": "7b9626cd",
   "metadata": {},
   "outputs": [],
   "source": []
  },
  {
   "cell_type": "code",
   "execution_count": null,
   "id": "2acaac7d",
   "metadata": {},
   "outputs": [],
   "source": []
  },
  {
   "cell_type": "code",
   "execution_count": null,
   "id": "a7144b2b",
   "metadata": {},
   "outputs": [],
   "source": []
  },
  {
   "cell_type": "code",
   "execution_count": null,
   "id": "29123d6c",
   "metadata": {},
   "outputs": [],
   "source": []
  }
 ],
 "metadata": {
  "kernelspec": {
   "display_name": "Python 3 (ipykernel)",
   "language": "python",
   "name": "python3"
  },
  "language_info": {
   "codemirror_mode": {
    "name": "ipython",
    "version": 3
   },
   "file_extension": ".py",
   "mimetype": "text/x-python",
   "name": "python",
   "nbconvert_exporter": "python",
   "pygments_lexer": "ipython3",
   "version": "3.10.9"
  }
 },
 "nbformat": 4,
 "nbformat_minor": 5
}
